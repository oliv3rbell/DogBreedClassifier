{
 "cells": [
  {
   "cell_type": "code",
   "execution_count": 2,
   "metadata": {},
   "outputs": [],
   "source": [
    "#Tyler Adams and Oliver Bell\n",
    "\n",
    "import numpy as np \n",
    "import pandas as pd\n",
    "import os\n",
    "import shutil\n",
    "import random\n",
    "import cv2 as cv\n",
    "import matplotlib.pyplot as plt \n",
    "import tensorflow as tf\n",
    "from tensorflow.keras import models, layers, optimizers, regularizers, utils\n",
    "from sklearn.model_selection import train_test_split \n",
    "from tensorflow.keras import applications"
   ]
  },
  {
   "cell_type": "code",
   "execution_count": 7,
   "metadata": {},
   "outputs": [
    {
     "data": {
      "text/plain": [
       "'/home/skynet/Desktop/CS395/DogBreed_Stuff'"
      ]
     },
     "execution_count": 7,
     "metadata": {},
     "output_type": "execute_result"
    }
   ],
   "source": [
    "pwd"
   ]
  },
  {
   "cell_type": "code",
   "execution_count": 8,
   "metadata": {},
   "outputs": [
    {
     "data": {
      "text/plain": [
       "['/home/skynet/Desktop/CS395/DogBreed_Stuff/stanford-dogs-dataset/images/Images/n02091244-Ibizan_hound',\n",
       " '/home/skynet/Desktop/CS395/DogBreed_Stuff/stanford-dogs-dataset/images/Images/n02090721-Irish_wolfhound',\n",
       " '/home/skynet/Desktop/CS395/DogBreed_Stuff/stanford-dogs-dataset/images/Images/n02112350-keeshond',\n",
       " '/home/skynet/Desktop/CS395/DogBreed_Stuff/stanford-dogs-dataset/images/Images/n02095570-Lakeland_terrier',\n",
       " '/home/skynet/Desktop/CS395/DogBreed_Stuff/stanford-dogs-dataset/images/Images/n02105056-groenendael',\n",
       " '/home/skynet/Desktop/CS395/DogBreed_Stuff/stanford-dogs-dataset/images/Images/n02102177-Welsh_springer_spaniel',\n",
       " '/home/skynet/Desktop/CS395/DogBreed_Stuff/stanford-dogs-dataset/images/Images/n02107683-Bernese_mountain_dog',\n",
       " '/home/skynet/Desktop/CS395/DogBreed_Stuff/stanford-dogs-dataset/images/Images/n02107574-Greater_Swiss_Mountain_dog',\n",
       " '/home/skynet/Desktop/CS395/DogBreed_Stuff/stanford-dogs-dataset/images/Images/n02102480-Sussex_spaniel',\n",
       " '/home/skynet/Desktop/CS395/DogBreed_Stuff/stanford-dogs-dataset/images/Images/n02102040-English_springer']"
      ]
     },
     "execution_count": 8,
     "metadata": {},
     "output_type": "execute_result"
    }
   ],
   "source": [
    "CLASS_NUM = 10\n",
    "folders_list = os.listdir(\"/home/skynet/Desktop/CS395/DogBreed_Stuff/stanford-dogs-dataset/images/Images\")[0:CLASS_NUM]\n",
    "path_list = [os.path.join('/home/skynet/Desktop/CS395/DogBreed_Stuff/stanford-dogs-dataset/images/Images', x) for x in folders_list]\n",
    "path_list"
   ]
  },
  {
   "cell_type": "code",
   "execution_count": null,
   "metadata": {},
   "outputs": [],
   "source": []
  }
 ],
 "metadata": {
  "kernelspec": {
   "display_name": "Python 3",
   "language": "python",
   "name": "python3"
  },
  "language_info": {
   "codemirror_mode": {
    "name": "ipython",
    "version": 3
   },
   "file_extension": ".py",
   "mimetype": "text/x-python",
   "name": "python",
   "nbconvert_exporter": "python",
   "pygments_lexer": "ipython3",
   "version": "3.6.5"
  }
 },
 "nbformat": 4,
 "nbformat_minor": 2
}
