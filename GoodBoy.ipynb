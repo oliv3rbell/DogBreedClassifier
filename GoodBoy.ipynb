{
 "cells": [
  {
   "cell_type": "code",
   "execution_count": 23,
   "metadata": {},
   "outputs": [],
   "source": [
    "#Tyler Adams and Oliver Bell\n",
    "\n",
    "import numpy as np \n",
    "import pandas as pd\n",
    "import os\n",
    "import shutil\n",
    "import random\n",
    "import cv2 \n",
    "import matplotlib.pyplot as plt \n",
    "import tensorflow as tf\n",
    "from tensorflow.keras import models, layers, optimizers, regularizers, utils\n",
    "from sklearn.model_selection import train_test_split \n",
    "from tensorflow.keras import applications"
   ]
  },
  {
   "cell_type": "code",
   "execution_count": 24,
   "metadata": {},
   "outputs": [
    {
     "data": {
      "text/plain": [
       "'/home/skynet/Desktop/CS395/DogBreed_Stuff'"
      ]
     },
     "execution_count": 24,
     "metadata": {},
     "output_type": "execute_result"
    }
   ],
   "source": [
    "pwd"
   ]
  },
  {
   "cell_type": "code",
   "execution_count": 25,
   "metadata": {},
   "outputs": [
    {
     "data": {
      "text/plain": [
       "['/home/skynet/Desktop/CS395/DogBreed_Stuff/stanford-dogs-dataset/images/Images/n02091244-Ibizan_hound',\n",
       " '/home/skynet/Desktop/CS395/DogBreed_Stuff/stanford-dogs-dataset/images/Images/n02090721-Irish_wolfhound',\n",
       " '/home/skynet/Desktop/CS395/DogBreed_Stuff/stanford-dogs-dataset/images/Images/n02112350-keeshond',\n",
       " '/home/skynet/Desktop/CS395/DogBreed_Stuff/stanford-dogs-dataset/images/Images/n02095570-Lakeland_terrier',\n",
       " '/home/skynet/Desktop/CS395/DogBreed_Stuff/stanford-dogs-dataset/images/Images/n02105056-groenendael',\n",
       " '/home/skynet/Desktop/CS395/DogBreed_Stuff/stanford-dogs-dataset/images/Images/n02102177-Welsh_springer_spaniel',\n",
       " '/home/skynet/Desktop/CS395/DogBreed_Stuff/stanford-dogs-dataset/images/Images/n02107683-Bernese_mountain_dog',\n",
       " '/home/skynet/Desktop/CS395/DogBreed_Stuff/stanford-dogs-dataset/images/Images/n02107574-Greater_Swiss_Mountain_dog',\n",
       " '/home/skynet/Desktop/CS395/DogBreed_Stuff/stanford-dogs-dataset/images/Images/n02102480-Sussex_spaniel',\n",
       " '/home/skynet/Desktop/CS395/DogBreed_Stuff/stanford-dogs-dataset/images/Images/n02102040-English_springer']"
      ]
     },
     "execution_count": 25,
     "metadata": {},
     "output_type": "execute_result"
    }
   ],
   "source": [
    "CLASS_NUM = 10\n",
    "folders_list = os.listdir(\"/home/skynet/Desktop/CS395/DogBreed_Stuff/stanford-dogs-dataset/images/Images\")[0:CLASS_NUM]\n",
    "path_list = [os.path.join('/home/skynet/Desktop/CS395/DogBreed_Stuff/stanford-dogs-dataset/images/Images', x) for x in folders_list]\n",
    "path_list"
   ]
  },
  {
   "cell_type": "code",
   "execution_count": 26,
   "metadata": {},
   "outputs": [
    {
     "data": {
      "text/plain": [
       "['Ibizan_hound',\n",
       " 'Irish_wolfhound',\n",
       " 'Keeshond',\n",
       " 'Lakeland_terrier',\n",
       " 'Groenendael',\n",
       " 'Welsh_springer_spaniel',\n",
       " 'Bernese_mountain_dog',\n",
       " 'Greater_swiss_mountain_dog',\n",
       " 'Sussex_spaniel',\n",
       " 'English_springer']"
      ]
     },
     "execution_count": 26,
     "metadata": {},
     "output_type": "execute_result"
    }
   ],
   "source": [
    "breed_list = os.listdir('/home/skynet/Desktop/CS395/DogBreed_Stuff/stanford-dogs-dataset/annotations/Annotation/') # list of all breeds for further demo\n",
    "breed_list = [x.split('-')[1].capitalize() for x in breed_list][0:CLASS_NUM]\n",
    "breed_list"
   ]
  },
  {
   "cell_type": "code",
   "execution_count": 27,
   "metadata": {},
   "outputs": [],
   "source": [
    "#Reading images from folders into X with appropriate labels adding to Y\n",
    "img_width, img_height, channels = 256, 256, 3\n",
    "Y = []\n",
    "X = []\n",
    "for num,file in enumerate(path_list):\n",
    "    for img in os.listdir(file):\n",
    "        im = cv2.resize(cv2.imread(os.path.join(file, img)), (img_width, img_height)).astype(np.float32)\n",
    "        #temp = cv2.imread(os.path.join(file, img))\n",
    "        #temp = cv2.resize(temp, (img_width, img_height), interpolation = cv2.INTER_AREA)\n",
    "        X.append(im)\n",
    "        Y.append(breed_list[num])\n",
    "X = utils.normalize(X)"
   ]
  },
  {
   "cell_type": "code",
   "execution_count": 29,
   "metadata": {},
   "outputs": [],
   "source": [
    "Y_num = []\n",
    "Y_dict = dict(zip(set(Y), range(len(set(Y)))))\n",
    "for elem in Y:\n",
    "    Y_num.append(Y_dict[elem])\n",
    "    \n",
    "Y = Y_num     "
   ]
  },
  {
   "cell_type": "code",
   "execution_count": 30,
   "metadata": {},
   "outputs": [],
   "source": [
    "b = np.zeros((len(Y), CLASS_NUM))\n",
    "b[np.arange(len(Y)), Y] = 1\n",
    "Y =b"
   ]
  },
  {
   "cell_type": "code",
   "execution_count": 31,
   "metadata": {},
   "outputs": [],
   "source": [
    "# First split the data in two sets, 80% for training, 20% for Val/Test)\n",
    "X_train, X_valtest, y_train, y_valtest = train_test_split(X,Y, test_size=0.3, random_state=1, stratify=Y)\n",
    "\n",
    "# Second split the 20% into validation and test sets\n",
    "X_test, X_val, y_test, y_val = train_test_split(X_valtest, y_valtest, test_size=0.5, random_state=1, stratify=y_valtest)"
   ]
  },
  {
   "cell_type": "code",
   "execution_count": null,
   "metadata": {},
   "outputs": [],
   "source": []
  }
 ],
 "metadata": {
  "kernelspec": {
   "display_name": "Python 3",
   "language": "python",
   "name": "python3"
  },
  "language_info": {
   "codemirror_mode": {
    "name": "ipython",
    "version": 3
   },
   "file_extension": ".py",
   "mimetype": "text/x-python",
   "name": "python",
   "nbconvert_exporter": "python",
   "pygments_lexer": "ipython3",
   "version": "3.6.5"
  }
 },
 "nbformat": 4,
 "nbformat_minor": 2
}
